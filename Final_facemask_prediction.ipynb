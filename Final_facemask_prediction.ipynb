{
 "cells": [
  {
   "cell_type": "code",
   "execution_count": 2,
   "metadata": {},
   "outputs": [],
   "source": [
    "from tensorflow.keras.applications.mobilenet_v2 import preprocess_input\n",
    "from tensorflow.keras.preprocessing.image import img_to_array\n",
    "from tensorflow.keras.models import load_model\n",
    "from imutils.video import VideoStream\n",
    "import numpy as np\n",
    "import argparse\n",
    "import imutils\n",
    "import time\n",
    "import cv2\n",
    "import os\n",
    "\n",
    "from pathlib import Path\n",
    "\n",
    "\n",
    "prototxtPath = str(Path('deploy.prototxt'))\n",
    "weightsPath = str(Path('res10_300x300_ssd_iter_140000.caffemodel'))\n",
    "faceNet = cv2.dnn.readNet(prototxtPath, weightsPath)\n",
    "maskNet = load_model('mask_detection.h5')"
   ]
  },
  {
   "cell_type": "code",
   "execution_count": 3,
   "metadata": {},
   "outputs": [],
   "source": [
    "def detect_and_predict_mask(frame):\n",
    "    mask_count=0\n",
    "    faceNet = cv2.dnn.readNet(prototxtPath, weightsPath)\n",
    "    maskNet = load_model('mask_detection.h5')\n",
    "    \n",
    "\t# grab the dimensions of the frame and then construct a blob\n",
    "\t# from it\n",
    "    (h, w) = (400,400)\n",
    "    blob = cv2.dnn.blobFromImage(frame, 1.0, (300, 300),(104.0, 177.0, 123.0))\n",
    "\t# pass the blob through the network and obtain the face detections\n",
    "    faceNet.setInput(blob)\n",
    "    detections = faceNet.forward()\n",
    "\t# initialize our list of faces, their corresponding locations,\n",
    "\t# and the list of predictions from our face mask network\n",
    "    faces = []\n",
    "    locs = []\n",
    "    preds = []\n",
    "    class_ids=[]\n",
    "    W=None\n",
    "    H=None\n",
    "    for i in range(0, detections.shape[2]):\n",
    "        \n",
    "\t\t# extract the confidence (i.e., probability) associated with\n",
    "\t\t# the detection\n",
    "        confidence = detections[0, 0, i, 2]\n",
    "        class_id=int(detections[0, 0, i, 1])\n",
    "\t\t# filter out weak detections by ensuring the confidence is\n",
    "\t\t# greater than the minimum confidence\n",
    "        if confidence > 0.45 :\n",
    "            class_id=int(detections[0, 0, i, 1])\n",
    "            box = detections[0, 0, i, 3:7] * np.array([w, h, w, h])\n",
    "            (startX, startY, endX, endY) = box.astype(\"int\")\n",
    "\t\t\t# ensure the bounding boxes fall within the dimensions of\n",
    "\t\t\t# the frame\n",
    "            (startX, startY) = (max(0, startX), max(0, startY))\n",
    "            (endX, endY) = (min(w - 1, endX), min(h - 1, endY))\n",
    "            face = frame[startY:endY, startX:endX]\n",
    "            face = cv2.cvtColor(face, cv2.COLOR_BGR2RGB)\n",
    "            face = cv2.resize(face, (224, 224))\n",
    "            face = img_to_array(face)\n",
    "            face = preprocess_input(face)\n",
    "\t\t\t# add the face and bounding boxes to their respective\n",
    "\t\t\t# lists\n",
    "            faces.append(face)\n",
    "            class_ids.append(class_id)\n",
    "            locs.append((startX, startY, endX, endY))\n",
    "    if len(faces) > 0:\n",
    "        \n",
    "\t\t# for faster inference we'll make batch predictions on *all*\n",
    "\t\t# faces at the same time rather than one-by-one predictions\n",
    "\t\t# in the above `for` loop\n",
    "        faces = np.array(faces, dtype=\"float32\")\n",
    "        preds = maskNet.predict(faces, batch_size=32)\n",
    "        \n",
    "    for (box, pred) in zip(locs, preds):\n",
    "\t\t# unpack the bounding box and predictions\n",
    "        (startX, startY, endX, endY) = box\n",
    "        (withoutMask, mask) = pred\n",
    "\t\t# determine the class label and color we'll use to draw\n",
    "\t\t# the bounding box and text\n",
    "        if mask < withoutMask:\n",
    "            label = \"No Mask\"\n",
    "            \n",
    "        else:\n",
    "            label=\"Mask\"\n",
    "            mask_count +=1\n",
    "        color = (0, 255, 0) if label == \"Mask\" else (0, 0, 255)\n",
    "\t\t# include the probability in the label\n",
    "        label = \"{}: {:.2f}%\".format(label, max(mask, withoutMask) * 100)\n",
    "\t\t# display the label and bounding box rectangle on the output\n",
    "\t\t# frame\n",
    "        cv2.putText(frame, label, (startX, startY - 10),cv2.FONT_HERSHEY_SIMPLEX, 0.5, color, 2)\n",
    "        cv2.rectangle(frame, (startX, startY), (endX, endY), color, 2)\n",
    "        if W is None or H is None:\n",
    "            (H, W) = frame.shape[:2]\n",
    "    #Add top-border to frame to display stats\n",
    "        border_size=50\n",
    "        border_text_color=[255,255,255]\n",
    "        frame = cv2.copyMakeBorder(frame, border_size,0,0,0, cv2.BORDER_CONSTANT)\n",
    "    #calculate count values\n",
    "        \n",
    "        total_face= len(class_ids)\n",
    "        \n",
    "        nomask_count=total_face-mask_count\n",
    "    #display count\n",
    "        text = \"NoMaskCount: {}  MaskCount: {}\".format(nomask_count, mask_count)\n",
    "        cv2.putText(frame,text, (0, int(border_size-5)), cv2.FONT_HERSHEY_SIMPLEX,0.4,border_text_color, 1)\n",
    "    #display status\n",
    "        text = \"Status:\"\n",
    "        cv2.putText(frame,text, (W-75, int(border_size-30)), cv2.FONT_HERSHEY_SIMPLEX,0.3,border_text_color, 1)\n",
    "        ratio=nomask_count/(mask_count+nomask_count+0.000001)\n",
    "\n",
    "    \n",
    "        if ratio>=0.1 and nomask_count>=3:\n",
    "            text = \"Danger !\"\n",
    "            cv2.putText(frame,text, (W-75, int(border_size-10)), cv2.FONT_HERSHEY_SIMPLEX,0.4,[26,13,247], 1)\n",
    "           # if fps._numFrames>=next_frame_towait: #to send danger sms again,only after skipping few seconds\n",
    "               # msg=\"**Face Mask System Alert** %0A%0A\"\n",
    "               # msg+=\"Camera ID: C001 %0A%0A\"            \n",
    "              #  msg+=\"Status: Danger! %0A%0A\"\n",
    "              #  msg+=\"No_Mask Count: \"+str(nomask_count)+\" %0A\"\n",
    "               # msg+=\"Mask Count: \"+str(mask_count)+\" %0A\"\n",
    "               # datetime_ist = datetime.now(IST) \n",
    "               # msg+=\"Date-Time of alert: %0A\"+datetime_ist.strftime('%Y-%m-%d %H:%M:%S %Z')\n",
    "                #sendSMS(msg,[7041677471])\n",
    "                #print('Sms sent')\n",
    "                #next_frame_towait=fps._numFrames+(5*25)\n",
    "        \n",
    "        elif ratio!=0 and np.isnan(ratio)!=True:\n",
    "            text = \"Warning !\"\n",
    "            cv2.putText(frame,text, (W-75, int(border_size-10)), cv2.FONT_HERSHEY_SIMPLEX,0.4,[0,255,255], 1)\n",
    "\n",
    "        else:\n",
    "            text = \"Safe \"\n",
    "            cv2.putText(frame,text, (W-75, int(border_size-10)), cv2.FONT_HERSHEY_SIMPLEX,0.4,[0,255,0], 1)\n",
    "    \n",
    "\n",
    "            \n",
    "   \n",
    "    return frame"
   ]
  },
  {
   "cell_type": "code",
   "execution_count": 4,
   "metadata": {},
   "outputs": [
    {
     "name": "stdout",
     "output_type": "stream",
     "text": [
      "Running locally at: http://127.0.0.1:7860/\n",
      "To create a public link, set `share=True` in `launch()`.\n",
      "Interface loading below...\n"
     ]
    },
    {
     "data": {
      "text/html": [
       "\n",
       "        <iframe\n",
       "            width=\"1000\"\n",
       "            height=\"500\"\n",
       "            src=\"http://127.0.0.1:7860/\"\n",
       "            frameborder=\"0\"\n",
       "            allowfullscreen\n",
       "        ></iframe>\n",
       "        "
      ],
      "text/plain": [
       "<IPython.lib.display.IFrame at 0x167b64b1788>"
      ]
     },
     "metadata": {},
     "output_type": "display_data"
    },
    {
     "data": {
      "text/plain": [
       "(<Flask 'gradio.networking'>, 'http://127.0.0.1:7860/', None)"
      ]
     },
     "execution_count": 4,
     "metadata": {},
     "output_type": "execute_result"
    }
   ],
   "source": [
    "#webcam = gr.inputs.Image(shape=(400,400), image_mode=\"RGB\", invert_colors=False, source=\"webcam\", tool=\"editor\", type=\"numpy\", label=None)\n",
    "#gr.Interface(fn=detect_and_predict_mask, inputs=webcam ,outputs=\"image\").launch()"
   ]
  },
  {
   "cell_type": "code",
   "execution_count": 4,
   "metadata": {},
   "outputs": [
    {
     "name": "stdout",
     "output_type": "stream",
     "text": [
      "WARNING:tensorflow:5 out of the last 5 calls to <function Model.make_predict_function.<locals>.predict_function at 0x0000012B45494C10> triggered tf.function retracing. Tracing is expensive and the excessive number of tracings could be due to (1) creating @tf.function repeatedly in a loop, (2) passing tensors with different shapes, (3) passing Python objects instead of tensors. For (1), please define your @tf.function outside of the loop. For (2), @tf.function has experimental_relax_shapes=True option that relaxes argument shapes that can avoid unnecessary retracing. For (3), please refer to https://www.tensorflow.org/guide/function#controlling_retracing and https://www.tensorflow.org/api_docs/python/tf/function for  more details.\n",
      "WARNING:tensorflow:6 out of the last 6 calls to <function Model.make_predict_function.<locals>.predict_function at 0x0000012B453BE3A0> triggered tf.function retracing. Tracing is expensive and the excessive number of tracings could be due to (1) creating @tf.function repeatedly in a loop, (2) passing tensors with different shapes, (3) passing Python objects instead of tensors. For (1), please define your @tf.function outside of the loop. For (2), @tf.function has experimental_relax_shapes=True option that relaxes argument shapes that can avoid unnecessary retracing. For (3), please refer to https://www.tensorflow.org/guide/function#controlling_retracing and https://www.tensorflow.org/api_docs/python/tf/function for  more details.\n",
      "WARNING:tensorflow:7 out of the last 7 calls to <function Model.make_predict_function.<locals>.predict_function at 0x0000012B4727FCA0> triggered tf.function retracing. Tracing is expensive and the excessive number of tracings could be due to (1) creating @tf.function repeatedly in a loop, (2) passing tensors with different shapes, (3) passing Python objects instead of tensors. For (1), please define your @tf.function outside of the loop. For (2), @tf.function has experimental_relax_shapes=True option that relaxes argument shapes that can avoid unnecessary retracing. For (3), please refer to https://www.tensorflow.org/guide/function#controlling_retracing and https://www.tensorflow.org/api_docs/python/tf/function for  more details.\n",
      "WARNING:tensorflow:8 out of the last 8 calls to <function Model.make_predict_function.<locals>.predict_function at 0x0000012B46C03E50> triggered tf.function retracing. Tracing is expensive and the excessive number of tracings could be due to (1) creating @tf.function repeatedly in a loop, (2) passing tensors with different shapes, (3) passing Python objects instead of tensors. For (1), please define your @tf.function outside of the loop. For (2), @tf.function has experimental_relax_shapes=True option that relaxes argument shapes that can avoid unnecessary retracing. For (3), please refer to https://www.tensorflow.org/guide/function#controlling_retracing and https://www.tensorflow.org/api_docs/python/tf/function for  more details.\n"
     ]
    }
   ],
   "source": [
    "vs = VideoStream(src=0).start()\n",
    "time.sleep(2.0)\n",
    "while True:\n",
    "\t# grab the frame from the threaded video stream and resize it\n",
    "\t# to have a maximum width of 400 pixels\n",
    "    frame = vs.read()\n",
    "    frame = imutils.resize(frame, width=400)\n",
    "    boxes = []\n",
    "    confidences = []\n",
    "    classIDs = []\n",
    "    W = None\n",
    "    H = None\n",
    "    mask_count=0\n",
    "\t# detect faces in the frame and determine if they are wearing a\n",
    "\t# face mask or not\n",
    "    (frame2) = detect_and_predict_mask(frame)\n",
    "    \t# loop over the detected face locations and their corresponding\n",
    "\t# locations\n",
    "    \n",
    "    cv2.imshow(\"Frame\", frame2)\n",
    "    key = cv2.waitKey(1) & 0xFF\n",
    "\t# if the `q` key was pressed, break from the loop\n",
    "    if key == ord(\"q\"):\n",
    "        break\n",
    "# do a bit of cleanup\n",
    "cv2.destroyAllWindows()\n",
    "vs.stop()"
   ]
  },
  {
   "cell_type": "code",
   "execution_count": null,
   "metadata": {},
   "outputs": [],
   "source": []
  }
 ],
 "metadata": {
  "kernelspec": {
   "display_name": "Python 3",
   "language": "python",
   "name": "python3"
  },
  "language_info": {
   "codemirror_mode": {
    "name": "ipython",
    "version": 3
   },
   "file_extension": ".py",
   "mimetype": "text/x-python",
   "name": "python",
   "nbconvert_exporter": "python",
   "pygments_lexer": "ipython3",
   "version": "3.8.5"
  }
 },
 "nbformat": 4,
 "nbformat_minor": 4
}
